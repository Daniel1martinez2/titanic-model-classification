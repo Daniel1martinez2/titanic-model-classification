{
 "cells": [
  {
   "cell_type": "markdown",
   "metadata": {},
   "source": [
    "# XGBOOST"
   ]
  },
  {
   "cell_type": "code",
   "execution_count": 1,
   "metadata": {},
   "outputs": [],
   "source": [
    "import pandas as pd"
   ]
  },
  {
   "cell_type": "markdown",
   "metadata": {},
   "source": [
    "## CARGAR NUEVAMENTE EL DATA SET DE TRAINING LIMPIO"
   ]
  },
  {
   "cell_type": "code",
   "execution_count": 30,
   "metadata": {},
   "outputs": [],
   "source": [
    "df_train_models = pd.read_excel(\"df_train_models.xlsx\")"
   ]
  },
  {
   "cell_type": "markdown",
   "metadata": {},
   "source": [
    "## MODEL"
   ]
  },
  {
   "cell_type": "code",
   "execution_count": 6,
   "metadata": {},
   "outputs": [
    {
     "name": "stdout",
     "output_type": "stream",
     "text": [
      "Collecting xgboost"
     ]
    },
    {
     "name": "stderr",
     "output_type": "stream",
     "text": [
      "\n",
      "[notice] A new release of pip is available: 23.3.2 -> 24.0\n",
      "[notice] To update, run: C:\\Users\\aleja\\AppData\\Local\\Microsoft\\WindowsApps\\PythonSoftwareFoundation.Python.3.10_qbz5n2kfra8p0\\python.exe -m pip install --upgrade pip\n"
     ]
    },
    {
     "name": "stdout",
     "output_type": "stream",
     "text": [
      "\n",
      "  Downloading xgboost-2.0.3-py3-none-win_amd64.whl.metadata (2.0 kB)\n",
      "Requirement already satisfied: numpy in c:\\users\\aleja\\appdata\\local\\packages\\pythonsoftwarefoundation.python.3.10_qbz5n2kfra8p0\\localcache\\local-packages\\python310\\site-packages (from xgboost) (1.25.1)\n",
      "Requirement already satisfied: scipy in c:\\users\\aleja\\appdata\\local\\packages\\pythonsoftwarefoundation.python.3.10_qbz5n2kfra8p0\\localcache\\local-packages\\python310\\site-packages (from xgboost) (1.11.3)\n",
      "Downloading xgboost-2.0.3-py3-none-win_amd64.whl (99.8 MB)\n",
      "   ---------------------------------------- 0.0/99.8 MB ? eta -:--:--\n",
      "   ---------------------------------------- 0.0/99.8 MB ? eta -:--:--\n",
      "   ---------------------------------------- 0.1/99.8 MB 1.2 MB/s eta 0:01:25\n",
      "   ---------------------------------------- 0.2/99.8 MB 1.4 MB/s eta 0:01:09\n",
      "   ---------------------------------------- 0.5/99.8 MB 2.2 MB/s eta 0:00:47\n",
      "   ---------------------------------------- 0.7/99.8 MB 2.8 MB/s eta 0:00:36\n",
      "    --------------------------------------- 1.3/99.8 MB 3.9 MB/s eta 0:00:26\n",
      "    --------------------------------------- 2.2/99.8 MB 5.5 MB/s eta 0:00:18\n",
      "   - -------------------------------------- 3.2/99.8 MB 7.2 MB/s eta 0:00:14\n",
      "   - -------------------------------------- 4.4/99.8 MB 8.8 MB/s eta 0:00:11\n",
      "   -- ------------------------------------- 5.7/99.8 MB 10.3 MB/s eta 0:00:10\n",
      "   -- ------------------------------------- 6.9/99.8 MB 11.3 MB/s eta 0:00:09\n",
      "   --- ------------------------------------ 8.0/99.8 MB 11.8 MB/s eta 0:00:08\n",
      "   --- ------------------------------------ 9.3/99.8 MB 12.6 MB/s eta 0:00:08\n",
      "   ---- ----------------------------------- 10.2/99.8 MB 12.8 MB/s eta 0:00:07\n",
      "   ---- ----------------------------------- 11.3/99.8 MB 18.7 MB/s eta 0:00:05\n",
      "   ---- ----------------------------------- 12.4/99.8 MB 19.3 MB/s eta 0:00:05\n",
      "   ----- ---------------------------------- 12.8/99.8 MB 17.7 MB/s eta 0:00:05\n",
      "   ----- ---------------------------------- 14.4/99.8 MB 18.2 MB/s eta 0:00:05\n",
      "   ------ --------------------------------- 17.1/99.8 MB 21.1 MB/s eta 0:00:04\n",
      "   -------- ------------------------------- 20.3/99.8 MB 29.7 MB/s eta 0:00:03\n",
      "   --------- ------------------------------ 23.0/99.8 MB 46.9 MB/s eta 0:00:02\n",
      "   ---------- ----------------------------- 25.9/99.8 MB 65.6 MB/s eta 0:00:02\n",
      "   ----------- ---------------------------- 29.3/99.8 MB 65.6 MB/s eta 0:00:02\n",
      "   ------------ --------------------------- 31.6/99.8 MB 59.5 MB/s eta 0:00:02\n",
      "   ------------- -------------------------- 33.4/99.8 MB 50.1 MB/s eta 0:00:02\n",
      "   ------------- -------------------------- 34.7/99.8 MB 46.9 MB/s eta 0:00:02\n",
      "   -------------- ------------------------- 35.9/99.8 MB 40.9 MB/s eta 0:00:02\n",
      "   -------------- ------------------------- 37.2/99.8 MB 36.4 MB/s eta 0:00:02\n",
      "   --------------- ------------------------ 38.5/99.8 MB 32.8 MB/s eta 0:00:02\n",
      "   ---------------- ----------------------- 40.2/99.8 MB 29.7 MB/s eta 0:00:03\n",
      "   ---------------- ----------------------- 41.5/99.8 MB 27.3 MB/s eta 0:00:03\n",
      "   ----------------- ---------------------- 43.1/99.8 MB 27.3 MB/s eta 0:00:03\n",
      "   ----------------- ---------------------- 44.4/99.8 MB 27.3 MB/s eta 0:00:03\n",
      "   ------------------ --------------------- 45.7/99.8 MB 27.3 MB/s eta 0:00:02\n",
      "   ------------------ --------------------- 47.1/99.8 MB 27.3 MB/s eta 0:00:02\n",
      "   ------------------- -------------------- 48.2/99.8 MB 27.3 MB/s eta 0:00:02\n",
      "   ------------------- -------------------- 49.2/99.8 MB 26.2 MB/s eta 0:00:02\n",
      "   -------------------- ------------------- 50.3/99.8 MB 26.2 MB/s eta 0:00:02\n",
      "   -------------------- ------------------- 51.7/99.8 MB 26.2 MB/s eta 0:00:02\n",
      "   --------------------- ------------------ 53.5/99.8 MB 27.3 MB/s eta 0:00:02\n",
      "   ---------------------- ----------------- 55.0/99.8 MB 27.3 MB/s eta 0:00:02\n",
      "   ---------------------- ----------------- 56.8/99.8 MB 27.3 MB/s eta 0:00:02\n",
      "   ----------------------- ---------------- 57.9/99.8 MB 26.2 MB/s eta 0:00:02\n",
      "   ------------------------ --------------- 60.0/99.8 MB 29.8 MB/s eta 0:00:02\n",
      "   ------------------------ --------------- 61.8/99.8 MB 28.4 MB/s eta 0:00:02\n",
      "   ------------------------- -------------- 63.3/99.8 MB 29.7 MB/s eta 0:00:02\n",
      "   ------------------------- -------------- 64.3/99.8 MB 28.4 MB/s eta 0:00:02\n",
      "   -------------------------- ------------- 65.3/99.8 MB 28.5 MB/s eta 0:00:02\n",
      "   -------------------------- ------------- 66.7/99.8 MB 26.2 MB/s eta 0:00:02\n",
      "   --------------------------- ------------ 67.9/99.8 MB 27.3 MB/s eta 0:00:02\n",
      "   --------------------------- ------------ 69.2/99.8 MB 27.3 MB/s eta 0:00:02\n",
      "   ---------------------------- ----------- 70.6/99.8 MB 27.3 MB/s eta 0:00:02\n",
      "   ---------------------------- ----------- 72.2/99.8 MB 27.3 MB/s eta 0:00:02\n",
      "   ----------------------------- ---------- 73.8/99.8 MB 26.2 MB/s eta 0:00:01\n",
      "   ------------------------------ --------- 74.8/99.8 MB 27.3 MB/s eta 0:00:01\n",
      "   ------------------------------ --------- 76.4/99.8 MB 27.3 MB/s eta 0:00:01\n",
      "   ------------------------------- -------- 77.7/99.8 MB 28.5 MB/s eta 0:00:01\n",
      "   ------------------------------- -------- 79.4/99.8 MB 28.5 MB/s eta 0:00:01\n",
      "   -------------------------------- ------- 80.8/99.8 MB 28.5 MB/s eta 0:00:01\n",
      "   -------------------------------- ------- 82.1/99.8 MB 28.4 MB/s eta 0:00:01\n",
      "   --------------------------------- ------ 83.2/99.8 MB 28.4 MB/s eta 0:00:01\n",
      "   --------------------------------- ------ 84.4/99.8 MB 26.2 MB/s eta 0:00:01\n",
      "   ---------------------------------- ----- 85.4/99.8 MB 26.2 MB/s eta 0:00:01\n",
      "   ---------------------------------- ----- 86.5/99.8 MB 24.2 MB/s eta 0:00:01\n",
      "   ----------------------------------- ---- 87.5/99.8 MB 22.6 MB/s eta 0:00:01\n",
      "   ------------------------------------ --- 91.4/99.8 MB 26.2 MB/s eta 0:00:01\n",
      "   -------------------------------------- - 94.9/99.8 MB 36.4 MB/s eta 0:00:01\n",
      "   ---------------------------------------  98.9/99.8 MB 81.8 MB/s eta 0:00:01\n",
      "   ---------------------------------------  99.7/99.8 MB 73.1 MB/s eta 0:00:01\n",
      "   ---------------------------------------  99.7/99.8 MB 73.1 MB/s eta 0:00:01\n",
      "   ---------------------------------------  99.7/99.8 MB 73.1 MB/s eta 0:00:01\n",
      "   ---------------------------------------  99.7/99.8 MB 73.1 MB/s eta 0:00:01\n",
      "   ---------------------------------------  99.7/99.8 MB 73.1 MB/s eta 0:00:01\n",
      "   ---------------------------------------  99.7/99.8 MB 73.1 MB/s eta 0:00:01\n",
      "   ---------------------------------------  99.7/99.8 MB 73.1 MB/s eta 0:00:01\n",
      "   ---------------------------------------  99.7/99.8 MB 73.1 MB/s eta 0:00:01\n",
      "   ---------------------------------------  99.7/99.8 MB 73.1 MB/s eta 0:00:01\n",
      "   ---------------------------------------  99.7/99.8 MB 73.1 MB/s eta 0:00:01\n",
      "   ---------------------------------------  99.7/99.8 MB 73.1 MB/s eta 0:00:01\n",
      "   ---------------------------------------  99.7/99.8 MB 73.1 MB/s eta 0:00:01\n",
      "   ---------------------------------------  99.7/99.8 MB 73.1 MB/s eta 0:00:01\n",
      "   ---------------------------------------  99.7/99.8 MB 73.1 MB/s eta 0:00:01\n",
      "   ---------------------------------------  99.7/99.8 MB 73.1 MB/s eta 0:00:01\n",
      "   ---------------------------------------  99.7/99.8 MB 73.1 MB/s eta 0:00:01\n",
      "   ---------------------------------------- 99.8/99.8 MB 11.1 MB/s eta 0:00:00\n",
      "Installing collected packages: xgboost\n",
      "Successfully installed xgboost-2.0.3\n"
     ]
    }
   ],
   "source": [
    "pip install xgboost"
   ]
  },
  {
   "cell_type": "code",
   "execution_count": 10,
   "metadata": {},
   "outputs": [],
   "source": [
    "from sklearn.model_selection import GridSearchCV, KFold, cross_val_score\n",
    "import xgboost as xgb\n",
    "from sklearn.metrics import accuracy_score"
   ]
  },
  {
   "cell_type": "code",
   "execution_count": 8,
   "metadata": {},
   "outputs": [],
   "source": [
    "# Definir el modelo XGBoost\n",
    "model = xgb.XGBClassifier()"
   ]
  },
  {
   "cell_type": "markdown",
   "metadata": {},
   "source": [
    "### SELECCIÓN DE HIPERPARÁMETROS"
   ]
  },
  {
   "cell_type": "code",
   "execution_count": 9,
   "metadata": {},
   "outputs": [],
   "source": [
    "# Definir los hiperparámetros a probar\n",
    "param_grid = {\n",
    "    'n_estimators': [50, 100, 200],\n",
    "    'learning_rate': [0.01, 0.1, 0.2],\n",
    "    'max_depth': [3, 4, 5],\n",
    "    'min_child_weight': [1, 2, 3],\n",
    "    'subsample': [0.8, 1.0],\n",
    "    'colsample_bytree': [0.8, 1.0]\n",
    "}"
   ]
  },
  {
   "cell_type": "markdown",
   "metadata": {},
   "source": [
    "### EXPLICACIÓN DE LOS RANGOS DE LOS HIPERPARÁMETROS DE PRUEBA"
   ]
  },
  {
   "cell_type": "markdown",
   "metadata": {},
   "source": [
    "##### n_estimators: [50, 100, 200]\n",
    "\n",
    "###### Razonamiento: Este parámetro controla el número de árboles en el modelo. Menos árboles pueden llevar a un modelo infraajustado, mientras que demasiados pueden llevar a un sobreajuste y aumentar el tiempo de entrenamiento. Los valores de 50, 100 y 200 son comunes para empezar, ya que proporcionan un buen balance entre capacidad de generalización y tiempo de entrenamiento.\n",
    "\n",
    "##### learning_rate: [0.01, 0.1, 0.2]\n",
    "\n",
    "###### Razonamiento: El learning rate (o tasa de aprendizaje) controla el tamaño de los pasos que se dan hacia el mínimo de la función de pérdida. Valores bajos como 0.01 tienden a hacer que el modelo sea más robusto, pero requieren más árboles para converger. Valores intermedios como 0.1 son típicamente buenos puntos de partida.\n",
    "\n",
    "##### max_depth: [3, 4, 5]\n",
    "\n",
    "###### Razonamiento: Este parámetro determina la profundidad máxima de los árboles. Valores bajos ayudan a prevenir el sobreajuste. En la práctica, profundidades entre 3 y 6 son comunes para evitar sobreajuste mientras se captura suficiente complejidad del modelo.\n",
    "\n",
    "##### min_child_weight: [1, 2, 3]\n",
    "\n",
    "###### Razonamiento: Este parámetro especifica el peso mínimo de la suma de instancias de un nodo hijo. Valores bajos pueden hacer el modelo más complejo, permitiendo nodos con menos instancias, mientras que valores más altos lo simplifican. Los valores 1, 2 y 3 son buenos puntos de partida para equilibrar complejidad y generalización.\n",
    "\n",
    "##### subsample: [0.8, 1.0]\n",
    "\n",
    "###### Razonamiento: Este parámetro controla la fracción de muestras utilizadas para entrenar cada árbol. Usar una fracción menor a 1.0 (por ejemplo, 0.8) puede ayudar a prevenir sobreajuste. 1.0 significa que se usan todas las muestras.\n",
    "\n",
    "##### colsample_bytree: [0.8, 1.0]\n",
    "\n",
    "###### Razonamiento: Este parámetro controla la fracción de características (columnas) a considerar en cada árbol. Valores menores a 1.0 pueden ayudar a prevenir el sobreajuste. Valores comunes son 0.8 y 1.0."
   ]
  },
  {
   "cell_type": "markdown",
   "metadata": {},
   "source": [
    "### CROSS VALIDATION"
   ]
  },
  {
   "cell_type": "code",
   "execution_count": 11,
   "metadata": {},
   "outputs": [
    {
     "data": {
      "text/plain": [
       "'\\nComo se tiene un conjunto de datos relativamente pequeño, un valor de k más alto puede ser mejor \\npara reducir la variabilidad de la estimación del rendimiento del modelo. Razón por la que se elige 10 y no 5 folds\\n'"
      ]
     },
     "execution_count": 11,
     "metadata": {},
     "output_type": "execute_result"
    }
   ],
   "source": [
    "# Definir el Cross-Validation\n",
    "kfold = KFold(n_splits=10, shuffle=True, random_state=42)\n",
    "\"\"\"\n",
    "Como se tiene un conjunto de datos relativamente pequeño, un valor de k más alto puede ser mejor \n",
    "para reducir la variabilidad de la estimación del rendimiento del modelo. Razón por la que se elige 10 y no 5 folds\n",
    "\"\"\""
   ]
  },
  {
   "cell_type": "markdown",
   "metadata": {},
   "source": [
    "### BÚSQUEDA DE LOS HIPERPARÁMETROS"
   ]
  },
  {
   "cell_type": "code",
   "execution_count": 12,
   "metadata": {},
   "outputs": [],
   "source": [
    "# Búsqueda de hiperparámetros\n",
    "grid_search = GridSearchCV(estimator=model, param_grid=param_grid, scoring='accuracy', cv=kfold, verbose=1, n_jobs=-1)"
   ]
  },
  {
   "cell_type": "markdown",
   "metadata": {},
   "source": [
    "#### SEPARAR X, Y"
   ]
  },
  {
   "cell_type": "code",
   "execution_count": 17,
   "metadata": {},
   "outputs": [],
   "source": [
    "X_train = df_train_models.drop(columns='Survived')\n",
    "y_train = df_train_models['Survived']"
   ]
  },
  {
   "cell_type": "markdown",
   "metadata": {},
   "source": [
    "#### ESTANDARIZAR"
   ]
  },
  {
   "cell_type": "code",
   "execution_count": 35,
   "metadata": {},
   "outputs": [],
   "source": [
    "from sklearn.preprocessing import StandardScaler\n",
    "# Estandarizar las características\n",
    "# Estandarizar solo dos columnas específicas, por ejemplo, 'Age' y 'Fare'\n",
    "columns_to_scale = ['Age', 'Fare']\n",
    "\n",
    "scaler = StandardScaler()\n",
    "X_train_scaled_columns = scaler.fit_transform(X_train[columns_to_scale])\n",
    "\n",
    "# Crear DataFrames con las columnas estandarizadas\n",
    "X_train_scaled = X_train.copy()\n",
    "X_train_scaled[columns_to_scale] = X_train_scaled_columns"
   ]
  },
  {
   "cell_type": "code",
   "execution_count": 36,
   "metadata": {},
   "outputs": [
    {
     "name": "stdout",
     "output_type": "stream",
     "text": [
      "Fitting 10 folds for each of 324 candidates, totalling 3240 fits\n"
     ]
    },
    {
     "data": {
      "text/html": [
       "<style>#sk-container-id-5 {color: black;}#sk-container-id-5 pre{padding: 0;}#sk-container-id-5 div.sk-toggleable {background-color: white;}#sk-container-id-5 label.sk-toggleable__label {cursor: pointer;display: block;width: 100%;margin-bottom: 0;padding: 0.3em;box-sizing: border-box;text-align: center;}#sk-container-id-5 label.sk-toggleable__label-arrow:before {content: \"▸\";float: left;margin-right: 0.25em;color: #696969;}#sk-container-id-5 label.sk-toggleable__label-arrow:hover:before {color: black;}#sk-container-id-5 div.sk-estimator:hover label.sk-toggleable__label-arrow:before {color: black;}#sk-container-id-5 div.sk-toggleable__content {max-height: 0;max-width: 0;overflow: hidden;text-align: left;background-color: #f0f8ff;}#sk-container-id-5 div.sk-toggleable__content pre {margin: 0.2em;color: black;border-radius: 0.25em;background-color: #f0f8ff;}#sk-container-id-5 input.sk-toggleable__control:checked~div.sk-toggleable__content {max-height: 200px;max-width: 100%;overflow: auto;}#sk-container-id-5 input.sk-toggleable__control:checked~label.sk-toggleable__label-arrow:before {content: \"▾\";}#sk-container-id-5 div.sk-estimator input.sk-toggleable__control:checked~label.sk-toggleable__label {background-color: #d4ebff;}#sk-container-id-5 div.sk-label input.sk-toggleable__control:checked~label.sk-toggleable__label {background-color: #d4ebff;}#sk-container-id-5 input.sk-hidden--visually {border: 0;clip: rect(1px 1px 1px 1px);clip: rect(1px, 1px, 1px, 1px);height: 1px;margin: -1px;overflow: hidden;padding: 0;position: absolute;width: 1px;}#sk-container-id-5 div.sk-estimator {font-family: monospace;background-color: #f0f8ff;border: 1px dotted black;border-radius: 0.25em;box-sizing: border-box;margin-bottom: 0.5em;}#sk-container-id-5 div.sk-estimator:hover {background-color: #d4ebff;}#sk-container-id-5 div.sk-parallel-item::after {content: \"\";width: 100%;border-bottom: 1px solid gray;flex-grow: 1;}#sk-container-id-5 div.sk-label:hover label.sk-toggleable__label {background-color: #d4ebff;}#sk-container-id-5 div.sk-serial::before {content: \"\";position: absolute;border-left: 1px solid gray;box-sizing: border-box;top: 0;bottom: 0;left: 50%;z-index: 0;}#sk-container-id-5 div.sk-serial {display: flex;flex-direction: column;align-items: center;background-color: white;padding-right: 0.2em;padding-left: 0.2em;position: relative;}#sk-container-id-5 div.sk-item {position: relative;z-index: 1;}#sk-container-id-5 div.sk-parallel {display: flex;align-items: stretch;justify-content: center;background-color: white;position: relative;}#sk-container-id-5 div.sk-item::before, #sk-container-id-5 div.sk-parallel-item::before {content: \"\";position: absolute;border-left: 1px solid gray;box-sizing: border-box;top: 0;bottom: 0;left: 50%;z-index: -1;}#sk-container-id-5 div.sk-parallel-item {display: flex;flex-direction: column;z-index: 1;position: relative;background-color: white;}#sk-container-id-5 div.sk-parallel-item:first-child::after {align-self: flex-end;width: 50%;}#sk-container-id-5 div.sk-parallel-item:last-child::after {align-self: flex-start;width: 50%;}#sk-container-id-5 div.sk-parallel-item:only-child::after {width: 0;}#sk-container-id-5 div.sk-dashed-wrapped {border: 1px dashed gray;margin: 0 0.4em 0.5em 0.4em;box-sizing: border-box;padding-bottom: 0.4em;background-color: white;}#sk-container-id-5 div.sk-label label {font-family: monospace;font-weight: bold;display: inline-block;line-height: 1.2em;}#sk-container-id-5 div.sk-label-container {text-align: center;}#sk-container-id-5 div.sk-container {/* jupyter's `normalize.less` sets `[hidden] { display: none; }` but bootstrap.min.css set `[hidden] { display: none !important; }` so we also need the `!important` here to be able to override the default hidden behavior on the sphinx rendered scikit-learn.org. See: https://github.com/scikit-learn/scikit-learn/issues/21755 */display: inline-block !important;position: relative;}#sk-container-id-5 div.sk-text-repr-fallback {display: none;}</style><div id=\"sk-container-id-5\" class=\"sk-top-container\"><div class=\"sk-text-repr-fallback\"><pre>GridSearchCV(cv=KFold(n_splits=10, random_state=42, shuffle=True),\n",
       "             estimator=XGBClassifier(base_score=None, booster=None,\n",
       "                                     callbacks=None, colsample_bylevel=None,\n",
       "                                     colsample_bynode=None,\n",
       "                                     colsample_bytree=None, device=None,\n",
       "                                     early_stopping_rounds=None,\n",
       "                                     enable_categorical=False, eval_metric=None,\n",
       "                                     feature_types=None, gamma=None,\n",
       "                                     grow_policy=None, importance_type=None,\n",
       "                                     in...\n",
       "                                     max_leaves=None, min_child_weight=None,\n",
       "                                     missing=nan, monotone_constraints=None,\n",
       "                                     multi_strategy=None, n_estimators=None,\n",
       "                                     n_jobs=None, num_parallel_tree=None,\n",
       "                                     random_state=None, ...),\n",
       "             n_jobs=-1,\n",
       "             param_grid={&#x27;colsample_bytree&#x27;: [0.8, 1.0],\n",
       "                         &#x27;learning_rate&#x27;: [0.01, 0.1, 0.2],\n",
       "                         &#x27;max_depth&#x27;: [3, 4, 5], &#x27;min_child_weight&#x27;: [1, 2, 3],\n",
       "                         &#x27;n_estimators&#x27;: [50, 100, 200],\n",
       "                         &#x27;subsample&#x27;: [0.8, 1.0]},\n",
       "             scoring=&#x27;accuracy&#x27;, verbose=1)</pre><b>In a Jupyter environment, please rerun this cell to show the HTML representation or trust the notebook. <br />On GitHub, the HTML representation is unable to render, please try loading this page with nbviewer.org.</b></div><div class=\"sk-container\" hidden><div class=\"sk-item sk-dashed-wrapped\"><div class=\"sk-label-container\"><div class=\"sk-label sk-toggleable\"><input class=\"sk-toggleable__control sk-hidden--visually\" id=\"sk-estimator-id-9\" type=\"checkbox\" ><label for=\"sk-estimator-id-9\" class=\"sk-toggleable__label sk-toggleable__label-arrow\">GridSearchCV</label><div class=\"sk-toggleable__content\"><pre>GridSearchCV(cv=KFold(n_splits=10, random_state=42, shuffle=True),\n",
       "             estimator=XGBClassifier(base_score=None, booster=None,\n",
       "                                     callbacks=None, colsample_bylevel=None,\n",
       "                                     colsample_bynode=None,\n",
       "                                     colsample_bytree=None, device=None,\n",
       "                                     early_stopping_rounds=None,\n",
       "                                     enable_categorical=False, eval_metric=None,\n",
       "                                     feature_types=None, gamma=None,\n",
       "                                     grow_policy=None, importance_type=None,\n",
       "                                     in...\n",
       "                                     max_leaves=None, min_child_weight=None,\n",
       "                                     missing=nan, monotone_constraints=None,\n",
       "                                     multi_strategy=None, n_estimators=None,\n",
       "                                     n_jobs=None, num_parallel_tree=None,\n",
       "                                     random_state=None, ...),\n",
       "             n_jobs=-1,\n",
       "             param_grid={&#x27;colsample_bytree&#x27;: [0.8, 1.0],\n",
       "                         &#x27;learning_rate&#x27;: [0.01, 0.1, 0.2],\n",
       "                         &#x27;max_depth&#x27;: [3, 4, 5], &#x27;min_child_weight&#x27;: [1, 2, 3],\n",
       "                         &#x27;n_estimators&#x27;: [50, 100, 200],\n",
       "                         &#x27;subsample&#x27;: [0.8, 1.0]},\n",
       "             scoring=&#x27;accuracy&#x27;, verbose=1)</pre></div></div></div><div class=\"sk-parallel\"><div class=\"sk-parallel-item\"><div class=\"sk-item\"><div class=\"sk-label-container\"><div class=\"sk-label sk-toggleable\"><input class=\"sk-toggleable__control sk-hidden--visually\" id=\"sk-estimator-id-10\" type=\"checkbox\" ><label for=\"sk-estimator-id-10\" class=\"sk-toggleable__label sk-toggleable__label-arrow\">estimator: XGBClassifier</label><div class=\"sk-toggleable__content\"><pre>XGBClassifier(base_score=None, booster=None, callbacks=None,\n",
       "              colsample_bylevel=None, colsample_bynode=None,\n",
       "              colsample_bytree=None, device=None, early_stopping_rounds=None,\n",
       "              enable_categorical=False, eval_metric=None, feature_types=None,\n",
       "              gamma=None, grow_policy=None, importance_type=None,\n",
       "              interaction_constraints=None, learning_rate=None, max_bin=None,\n",
       "              max_cat_threshold=None, max_cat_to_onehot=None,\n",
       "              max_delta_step=None, max_depth=None, max_leaves=None,\n",
       "              min_child_weight=None, missing=nan, monotone_constraints=None,\n",
       "              multi_strategy=None, n_estimators=None, n_jobs=None,\n",
       "              num_parallel_tree=None, random_state=None, ...)</pre></div></div></div><div class=\"sk-serial\"><div class=\"sk-item\"><div class=\"sk-estimator sk-toggleable\"><input class=\"sk-toggleable__control sk-hidden--visually\" id=\"sk-estimator-id-11\" type=\"checkbox\" ><label for=\"sk-estimator-id-11\" class=\"sk-toggleable__label sk-toggleable__label-arrow\">XGBClassifier</label><div class=\"sk-toggleable__content\"><pre>XGBClassifier(base_score=None, booster=None, callbacks=None,\n",
       "              colsample_bylevel=None, colsample_bynode=None,\n",
       "              colsample_bytree=None, device=None, early_stopping_rounds=None,\n",
       "              enable_categorical=False, eval_metric=None, feature_types=None,\n",
       "              gamma=None, grow_policy=None, importance_type=None,\n",
       "              interaction_constraints=None, learning_rate=None, max_bin=None,\n",
       "              max_cat_threshold=None, max_cat_to_onehot=None,\n",
       "              max_delta_step=None, max_depth=None, max_leaves=None,\n",
       "              min_child_weight=None, missing=nan, monotone_constraints=None,\n",
       "              multi_strategy=None, n_estimators=None, n_jobs=None,\n",
       "              num_parallel_tree=None, random_state=None, ...)</pre></div></div></div></div></div></div></div></div></div></div>"
      ],
      "text/plain": [
       "GridSearchCV(cv=KFold(n_splits=10, random_state=42, shuffle=True),\n",
       "             estimator=XGBClassifier(base_score=None, booster=None,\n",
       "                                     callbacks=None, colsample_bylevel=None,\n",
       "                                     colsample_bynode=None,\n",
       "                                     colsample_bytree=None, device=None,\n",
       "                                     early_stopping_rounds=None,\n",
       "                                     enable_categorical=False, eval_metric=None,\n",
       "                                     feature_types=None, gamma=None,\n",
       "                                     grow_policy=None, importance_type=None,\n",
       "                                     in...\n",
       "                                     max_leaves=None, min_child_weight=None,\n",
       "                                     missing=nan, monotone_constraints=None,\n",
       "                                     multi_strategy=None, n_estimators=None,\n",
       "                                     n_jobs=None, num_parallel_tree=None,\n",
       "                                     random_state=None, ...),\n",
       "             n_jobs=-1,\n",
       "             param_grid={'colsample_bytree': [0.8, 1.0],\n",
       "                         'learning_rate': [0.01, 0.1, 0.2],\n",
       "                         'max_depth': [3, 4, 5], 'min_child_weight': [1, 2, 3],\n",
       "                         'n_estimators': [50, 100, 200],\n",
       "                         'subsample': [0.8, 1.0]},\n",
       "             scoring='accuracy', verbose=1)"
      ]
     },
     "execution_count": 36,
     "metadata": {},
     "output_type": "execute_result"
    }
   ],
   "source": [
    "grid_search.fit(X_train_scaled, y_train)"
   ]
  },
  {
   "cell_type": "code",
   "execution_count": 37,
   "metadata": {},
   "outputs": [
    {
     "name": "stdout",
     "output_type": "stream",
     "text": [
      "Mejores hiperparámetros: {'colsample_bytree': 0.8, 'learning_rate': 0.1, 'max_depth': 5, 'min_child_weight': 3, 'n_estimators': 100, 'subsample': 0.8}\n"
     ]
    }
   ],
   "source": [
    "# Mejor combinación de hiperparámetros\n",
    "best_params = grid_search.best_params_\n",
    "print(f\"Mejores hiperparámetros: {best_params}\")"
   ]
  },
  {
   "cell_type": "code",
   "execution_count": 38,
   "metadata": {},
   "outputs": [
    {
     "data": {
      "text/html": [
       "<div>\n",
       "<style scoped>\n",
       "    .dataframe tbody tr th:only-of-type {\n",
       "        vertical-align: middle;\n",
       "    }\n",
       "\n",
       "    .dataframe tbody tr th {\n",
       "        vertical-align: top;\n",
       "    }\n",
       "\n",
       "    .dataframe thead th {\n",
       "        text-align: right;\n",
       "    }\n",
       "</style>\n",
       "<table border=\"1\" class=\"dataframe\">\n",
       "  <thead>\n",
       "    <tr style=\"text-align: right;\">\n",
       "      <th></th>\n",
       "      <th>mean_fit_time</th>\n",
       "      <th>std_fit_time</th>\n",
       "      <th>mean_score_time</th>\n",
       "      <th>std_score_time</th>\n",
       "      <th>param_colsample_bytree</th>\n",
       "      <th>param_learning_rate</th>\n",
       "      <th>param_max_depth</th>\n",
       "      <th>param_min_child_weight</th>\n",
       "      <th>param_n_estimators</th>\n",
       "      <th>param_subsample</th>\n",
       "      <th>...</th>\n",
       "      <th>split3_test_score</th>\n",
       "      <th>split4_test_score</th>\n",
       "      <th>split5_test_score</th>\n",
       "      <th>split6_test_score</th>\n",
       "      <th>split7_test_score</th>\n",
       "      <th>split8_test_score</th>\n",
       "      <th>split9_test_score</th>\n",
       "      <th>mean_test_score</th>\n",
       "      <th>std_test_score</th>\n",
       "      <th>rank_test_score</th>\n",
       "    </tr>\n",
       "  </thead>\n",
       "  <tbody>\n",
       "    <tr>\n",
       "      <th>0</th>\n",
       "      <td>0.081339</td>\n",
       "      <td>0.013431</td>\n",
       "      <td>0.016478</td>\n",
       "      <td>0.008086</td>\n",
       "      <td>0.8</td>\n",
       "      <td>0.01</td>\n",
       "      <td>3</td>\n",
       "      <td>1</td>\n",
       "      <td>50</td>\n",
       "      <td>0.8</td>\n",
       "      <td>...</td>\n",
       "      <td>0.764045</td>\n",
       "      <td>0.842697</td>\n",
       "      <td>0.820225</td>\n",
       "      <td>0.797753</td>\n",
       "      <td>0.752809</td>\n",
       "      <td>0.696629</td>\n",
       "      <td>0.910112</td>\n",
       "      <td>0.790137</td>\n",
       "      <td>0.055224</td>\n",
       "      <td>317</td>\n",
       "    </tr>\n",
       "    <tr>\n",
       "      <th>1</th>\n",
       "      <td>0.065722</td>\n",
       "      <td>0.010844</td>\n",
       "      <td>0.012459</td>\n",
       "      <td>0.008279</td>\n",
       "      <td>0.8</td>\n",
       "      <td>0.01</td>\n",
       "      <td>3</td>\n",
       "      <td>1</td>\n",
       "      <td>50</td>\n",
       "      <td>1.0</td>\n",
       "      <td>...</td>\n",
       "      <td>0.775281</td>\n",
       "      <td>0.842697</td>\n",
       "      <td>0.831461</td>\n",
       "      <td>0.797753</td>\n",
       "      <td>0.752809</td>\n",
       "      <td>0.707865</td>\n",
       "      <td>0.898876</td>\n",
       "      <td>0.793508</td>\n",
       "      <td>0.050466</td>\n",
       "      <td>313</td>\n",
       "    </tr>\n",
       "    <tr>\n",
       "      <th>2</th>\n",
       "      <td>0.124921</td>\n",
       "      <td>0.023646</td>\n",
       "      <td>0.008530</td>\n",
       "      <td>0.002217</td>\n",
       "      <td>0.8</td>\n",
       "      <td>0.01</td>\n",
       "      <td>3</td>\n",
       "      <td>1</td>\n",
       "      <td>100</td>\n",
       "      <td>0.8</td>\n",
       "      <td>...</td>\n",
       "      <td>0.786517</td>\n",
       "      <td>0.853933</td>\n",
       "      <td>0.876404</td>\n",
       "      <td>0.808989</td>\n",
       "      <td>0.797753</td>\n",
       "      <td>0.752809</td>\n",
       "      <td>0.898876</td>\n",
       "      <td>0.821511</td>\n",
       "      <td>0.044344</td>\n",
       "      <td>261</td>\n",
       "    </tr>\n",
       "    <tr>\n",
       "      <th>3</th>\n",
       "      <td>0.103434</td>\n",
       "      <td>0.011639</td>\n",
       "      <td>0.007619</td>\n",
       "      <td>0.001552</td>\n",
       "      <td>0.8</td>\n",
       "      <td>0.01</td>\n",
       "      <td>3</td>\n",
       "      <td>1</td>\n",
       "      <td>100</td>\n",
       "      <td>1.0</td>\n",
       "      <td>...</td>\n",
       "      <td>0.786517</td>\n",
       "      <td>0.865169</td>\n",
       "      <td>0.887640</td>\n",
       "      <td>0.820225</td>\n",
       "      <td>0.808989</td>\n",
       "      <td>0.764045</td>\n",
       "      <td>0.898876</td>\n",
       "      <td>0.827141</td>\n",
       "      <td>0.043058</td>\n",
       "      <td>202</td>\n",
       "    </tr>\n",
       "    <tr>\n",
       "      <th>4</th>\n",
       "      <td>0.218054</td>\n",
       "      <td>0.026885</td>\n",
       "      <td>0.008461</td>\n",
       "      <td>0.001257</td>\n",
       "      <td>0.8</td>\n",
       "      <td>0.01</td>\n",
       "      <td>3</td>\n",
       "      <td>1</td>\n",
       "      <td>200</td>\n",
       "      <td>0.8</td>\n",
       "      <td>...</td>\n",
       "      <td>0.808989</td>\n",
       "      <td>0.865169</td>\n",
       "      <td>0.887640</td>\n",
       "      <td>0.808989</td>\n",
       "      <td>0.808989</td>\n",
       "      <td>0.764045</td>\n",
       "      <td>0.898876</td>\n",
       "      <td>0.826042</td>\n",
       "      <td>0.042393</td>\n",
       "      <td>212</td>\n",
       "    </tr>\n",
       "    <tr>\n",
       "      <th>...</th>\n",
       "      <td>...</td>\n",
       "      <td>...</td>\n",
       "      <td>...</td>\n",
       "      <td>...</td>\n",
       "      <td>...</td>\n",
       "      <td>...</td>\n",
       "      <td>...</td>\n",
       "      <td>...</td>\n",
       "      <td>...</td>\n",
       "      <td>...</td>\n",
       "      <td>...</td>\n",
       "      <td>...</td>\n",
       "      <td>...</td>\n",
       "      <td>...</td>\n",
       "      <td>...</td>\n",
       "      <td>...</td>\n",
       "      <td>...</td>\n",
       "      <td>...</td>\n",
       "      <td>...</td>\n",
       "      <td>...</td>\n",
       "      <td>...</td>\n",
       "    </tr>\n",
       "    <tr>\n",
       "      <th>319</th>\n",
       "      <td>0.116243</td>\n",
       "      <td>0.017837</td>\n",
       "      <td>0.012835</td>\n",
       "      <td>0.006013</td>\n",
       "      <td>1.0</td>\n",
       "      <td>0.2</td>\n",
       "      <td>5</td>\n",
       "      <td>3</td>\n",
       "      <td>50</td>\n",
       "      <td>1.0</td>\n",
       "      <td>...</td>\n",
       "      <td>0.831461</td>\n",
       "      <td>0.876404</td>\n",
       "      <td>0.910112</td>\n",
       "      <td>0.786517</td>\n",
       "      <td>0.831461</td>\n",
       "      <td>0.808989</td>\n",
       "      <td>0.853933</td>\n",
       "      <td>0.833908</td>\n",
       "      <td>0.035389</td>\n",
       "      <td>107</td>\n",
       "    </tr>\n",
       "    <tr>\n",
       "      <th>320</th>\n",
       "      <td>0.184299</td>\n",
       "      <td>0.020857</td>\n",
       "      <td>0.009380</td>\n",
       "      <td>0.000992</td>\n",
       "      <td>1.0</td>\n",
       "      <td>0.2</td>\n",
       "      <td>5</td>\n",
       "      <td>3</td>\n",
       "      <td>100</td>\n",
       "      <td>0.8</td>\n",
       "      <td>...</td>\n",
       "      <td>0.808989</td>\n",
       "      <td>0.865169</td>\n",
       "      <td>0.887640</td>\n",
       "      <td>0.797753</td>\n",
       "      <td>0.842697</td>\n",
       "      <td>0.786517</td>\n",
       "      <td>0.898876</td>\n",
       "      <td>0.836142</td>\n",
       "      <td>0.035936</td>\n",
       "      <td>76</td>\n",
       "    </tr>\n",
       "    <tr>\n",
       "      <th>321</th>\n",
       "      <td>0.168584</td>\n",
       "      <td>0.019609</td>\n",
       "      <td>0.011638</td>\n",
       "      <td>0.002194</td>\n",
       "      <td>1.0</td>\n",
       "      <td>0.2</td>\n",
       "      <td>5</td>\n",
       "      <td>3</td>\n",
       "      <td>100</td>\n",
       "      <td>1.0</td>\n",
       "      <td>...</td>\n",
       "      <td>0.820225</td>\n",
       "      <td>0.887640</td>\n",
       "      <td>0.898876</td>\n",
       "      <td>0.775281</td>\n",
       "      <td>0.853933</td>\n",
       "      <td>0.842697</td>\n",
       "      <td>0.865169</td>\n",
       "      <td>0.840624</td>\n",
       "      <td>0.036527</td>\n",
       "      <td>30</td>\n",
       "    </tr>\n",
       "    <tr>\n",
       "      <th>322</th>\n",
       "      <td>0.340849</td>\n",
       "      <td>0.034311</td>\n",
       "      <td>0.014676</td>\n",
       "      <td>0.009147</td>\n",
       "      <td>1.0</td>\n",
       "      <td>0.2</td>\n",
       "      <td>5</td>\n",
       "      <td>3</td>\n",
       "      <td>200</td>\n",
       "      <td>0.8</td>\n",
       "      <td>...</td>\n",
       "      <td>0.831461</td>\n",
       "      <td>0.898876</td>\n",
       "      <td>0.887640</td>\n",
       "      <td>0.764045</td>\n",
       "      <td>0.853933</td>\n",
       "      <td>0.786517</td>\n",
       "      <td>0.876404</td>\n",
       "      <td>0.837278</td>\n",
       "      <td>0.041435</td>\n",
       "      <td>50</td>\n",
       "    </tr>\n",
       "    <tr>\n",
       "      <th>323</th>\n",
       "      <td>0.308604</td>\n",
       "      <td>0.033980</td>\n",
       "      <td>0.011029</td>\n",
       "      <td>0.002132</td>\n",
       "      <td>1.0</td>\n",
       "      <td>0.2</td>\n",
       "      <td>5</td>\n",
       "      <td>3</td>\n",
       "      <td>200</td>\n",
       "      <td>1.0</td>\n",
       "      <td>...</td>\n",
       "      <td>0.808989</td>\n",
       "      <td>0.876404</td>\n",
       "      <td>0.910112</td>\n",
       "      <td>0.764045</td>\n",
       "      <td>0.831461</td>\n",
       "      <td>0.797753</td>\n",
       "      <td>0.842697</td>\n",
       "      <td>0.833870</td>\n",
       "      <td>0.040844</td>\n",
       "      <td>116</td>\n",
       "    </tr>\n",
       "  </tbody>\n",
       "</table>\n",
       "<p>324 rows × 24 columns</p>\n",
       "</div>"
      ],
      "text/plain": [
       "     mean_fit_time  std_fit_time  mean_score_time  std_score_time  \\\n",
       "0         0.081339      0.013431         0.016478        0.008086   \n",
       "1         0.065722      0.010844         0.012459        0.008279   \n",
       "2         0.124921      0.023646         0.008530        0.002217   \n",
       "3         0.103434      0.011639         0.007619        0.001552   \n",
       "4         0.218054      0.026885         0.008461        0.001257   \n",
       "..             ...           ...              ...             ...   \n",
       "319       0.116243      0.017837         0.012835        0.006013   \n",
       "320       0.184299      0.020857         0.009380        0.000992   \n",
       "321       0.168584      0.019609         0.011638        0.002194   \n",
       "322       0.340849      0.034311         0.014676        0.009147   \n",
       "323       0.308604      0.033980         0.011029        0.002132   \n",
       "\n",
       "    param_colsample_bytree param_learning_rate param_max_depth  \\\n",
       "0                      0.8                0.01               3   \n",
       "1                      0.8                0.01               3   \n",
       "2                      0.8                0.01               3   \n",
       "3                      0.8                0.01               3   \n",
       "4                      0.8                0.01               3   \n",
       "..                     ...                 ...             ...   \n",
       "319                    1.0                 0.2               5   \n",
       "320                    1.0                 0.2               5   \n",
       "321                    1.0                 0.2               5   \n",
       "322                    1.0                 0.2               5   \n",
       "323                    1.0                 0.2               5   \n",
       "\n",
       "    param_min_child_weight param_n_estimators param_subsample  ...  \\\n",
       "0                        1                 50             0.8  ...   \n",
       "1                        1                 50             1.0  ...   \n",
       "2                        1                100             0.8  ...   \n",
       "3                        1                100             1.0  ...   \n",
       "4                        1                200             0.8  ...   \n",
       "..                     ...                ...             ...  ...   \n",
       "319                      3                 50             1.0  ...   \n",
       "320                      3                100             0.8  ...   \n",
       "321                      3                100             1.0  ...   \n",
       "322                      3                200             0.8  ...   \n",
       "323                      3                200             1.0  ...   \n",
       "\n",
       "    split3_test_score  split4_test_score  split5_test_score  \\\n",
       "0            0.764045           0.842697           0.820225   \n",
       "1            0.775281           0.842697           0.831461   \n",
       "2            0.786517           0.853933           0.876404   \n",
       "3            0.786517           0.865169           0.887640   \n",
       "4            0.808989           0.865169           0.887640   \n",
       "..                ...                ...                ...   \n",
       "319          0.831461           0.876404           0.910112   \n",
       "320          0.808989           0.865169           0.887640   \n",
       "321          0.820225           0.887640           0.898876   \n",
       "322          0.831461           0.898876           0.887640   \n",
       "323          0.808989           0.876404           0.910112   \n",
       "\n",
       "     split6_test_score  split7_test_score  split8_test_score  \\\n",
       "0             0.797753           0.752809           0.696629   \n",
       "1             0.797753           0.752809           0.707865   \n",
       "2             0.808989           0.797753           0.752809   \n",
       "3             0.820225           0.808989           0.764045   \n",
       "4             0.808989           0.808989           0.764045   \n",
       "..                 ...                ...                ...   \n",
       "319           0.786517           0.831461           0.808989   \n",
       "320           0.797753           0.842697           0.786517   \n",
       "321           0.775281           0.853933           0.842697   \n",
       "322           0.764045           0.853933           0.786517   \n",
       "323           0.764045           0.831461           0.797753   \n",
       "\n",
       "     split9_test_score  mean_test_score  std_test_score  rank_test_score  \n",
       "0             0.910112         0.790137        0.055224              317  \n",
       "1             0.898876         0.793508        0.050466              313  \n",
       "2             0.898876         0.821511        0.044344              261  \n",
       "3             0.898876         0.827141        0.043058              202  \n",
       "4             0.898876         0.826042        0.042393              212  \n",
       "..                 ...              ...             ...              ...  \n",
       "319           0.853933         0.833908        0.035389              107  \n",
       "320           0.898876         0.836142        0.035936               76  \n",
       "321           0.865169         0.840624        0.036527               30  \n",
       "322           0.876404         0.837278        0.041435               50  \n",
       "323           0.842697         0.833870        0.040844              116  \n",
       "\n",
       "[324 rows x 24 columns]"
      ]
     },
     "metadata": {},
     "output_type": "display_data"
    }
   ],
   "source": [
    "# Mostrar el rendimiento de cada combinación de hiperparámetros\n",
    "results = pd.DataFrame(grid_search.cv_results_)\n",
    "display(results)"
   ]
  },
  {
   "cell_type": "markdown",
   "metadata": {},
   "source": [
    "### ENTRENAR EL MODELO CON LOS MEJORES HIPERPARÁMETROS"
   ]
  },
  {
   "cell_type": "code",
   "execution_count": 39,
   "metadata": {},
   "outputs": [
    {
     "data": {
      "text/html": [
       "<style>#sk-container-id-6 {color: black;}#sk-container-id-6 pre{padding: 0;}#sk-container-id-6 div.sk-toggleable {background-color: white;}#sk-container-id-6 label.sk-toggleable__label {cursor: pointer;display: block;width: 100%;margin-bottom: 0;padding: 0.3em;box-sizing: border-box;text-align: center;}#sk-container-id-6 label.sk-toggleable__label-arrow:before {content: \"▸\";float: left;margin-right: 0.25em;color: #696969;}#sk-container-id-6 label.sk-toggleable__label-arrow:hover:before {color: black;}#sk-container-id-6 div.sk-estimator:hover label.sk-toggleable__label-arrow:before {color: black;}#sk-container-id-6 div.sk-toggleable__content {max-height: 0;max-width: 0;overflow: hidden;text-align: left;background-color: #f0f8ff;}#sk-container-id-6 div.sk-toggleable__content pre {margin: 0.2em;color: black;border-radius: 0.25em;background-color: #f0f8ff;}#sk-container-id-6 input.sk-toggleable__control:checked~div.sk-toggleable__content {max-height: 200px;max-width: 100%;overflow: auto;}#sk-container-id-6 input.sk-toggleable__control:checked~label.sk-toggleable__label-arrow:before {content: \"▾\";}#sk-container-id-6 div.sk-estimator input.sk-toggleable__control:checked~label.sk-toggleable__label {background-color: #d4ebff;}#sk-container-id-6 div.sk-label input.sk-toggleable__control:checked~label.sk-toggleable__label {background-color: #d4ebff;}#sk-container-id-6 input.sk-hidden--visually {border: 0;clip: rect(1px 1px 1px 1px);clip: rect(1px, 1px, 1px, 1px);height: 1px;margin: -1px;overflow: hidden;padding: 0;position: absolute;width: 1px;}#sk-container-id-6 div.sk-estimator {font-family: monospace;background-color: #f0f8ff;border: 1px dotted black;border-radius: 0.25em;box-sizing: border-box;margin-bottom: 0.5em;}#sk-container-id-6 div.sk-estimator:hover {background-color: #d4ebff;}#sk-container-id-6 div.sk-parallel-item::after {content: \"\";width: 100%;border-bottom: 1px solid gray;flex-grow: 1;}#sk-container-id-6 div.sk-label:hover label.sk-toggleable__label {background-color: #d4ebff;}#sk-container-id-6 div.sk-serial::before {content: \"\";position: absolute;border-left: 1px solid gray;box-sizing: border-box;top: 0;bottom: 0;left: 50%;z-index: 0;}#sk-container-id-6 div.sk-serial {display: flex;flex-direction: column;align-items: center;background-color: white;padding-right: 0.2em;padding-left: 0.2em;position: relative;}#sk-container-id-6 div.sk-item {position: relative;z-index: 1;}#sk-container-id-6 div.sk-parallel {display: flex;align-items: stretch;justify-content: center;background-color: white;position: relative;}#sk-container-id-6 div.sk-item::before, #sk-container-id-6 div.sk-parallel-item::before {content: \"\";position: absolute;border-left: 1px solid gray;box-sizing: border-box;top: 0;bottom: 0;left: 50%;z-index: -1;}#sk-container-id-6 div.sk-parallel-item {display: flex;flex-direction: column;z-index: 1;position: relative;background-color: white;}#sk-container-id-6 div.sk-parallel-item:first-child::after {align-self: flex-end;width: 50%;}#sk-container-id-6 div.sk-parallel-item:last-child::after {align-self: flex-start;width: 50%;}#sk-container-id-6 div.sk-parallel-item:only-child::after {width: 0;}#sk-container-id-6 div.sk-dashed-wrapped {border: 1px dashed gray;margin: 0 0.4em 0.5em 0.4em;box-sizing: border-box;padding-bottom: 0.4em;background-color: white;}#sk-container-id-6 div.sk-label label {font-family: monospace;font-weight: bold;display: inline-block;line-height: 1.2em;}#sk-container-id-6 div.sk-label-container {text-align: center;}#sk-container-id-6 div.sk-container {/* jupyter's `normalize.less` sets `[hidden] { display: none; }` but bootstrap.min.css set `[hidden] { display: none !important; }` so we also need the `!important` here to be able to override the default hidden behavior on the sphinx rendered scikit-learn.org. See: https://github.com/scikit-learn/scikit-learn/issues/21755 */display: inline-block !important;position: relative;}#sk-container-id-6 div.sk-text-repr-fallback {display: none;}</style><div id=\"sk-container-id-6\" class=\"sk-top-container\"><div class=\"sk-text-repr-fallback\"><pre>XGBClassifier(base_score=None, booster=None, callbacks=None,\n",
       "              colsample_bylevel=None, colsample_bynode=None,\n",
       "              colsample_bytree=0.8, device=None, early_stopping_rounds=None,\n",
       "              enable_categorical=False, eval_metric=None, feature_types=None,\n",
       "              gamma=None, grow_policy=None, importance_type=None,\n",
       "              interaction_constraints=None, learning_rate=0.1, max_bin=None,\n",
       "              max_cat_threshold=None, max_cat_to_onehot=None,\n",
       "              max_delta_step=None, max_depth=5, max_leaves=None,\n",
       "              min_child_weight=3, missing=nan, monotone_constraints=None,\n",
       "              multi_strategy=None, n_estimators=100, n_jobs=None,\n",
       "              num_parallel_tree=None, random_state=None, ...)</pre><b>In a Jupyter environment, please rerun this cell to show the HTML representation or trust the notebook. <br />On GitHub, the HTML representation is unable to render, please try loading this page with nbviewer.org.</b></div><div class=\"sk-container\" hidden><div class=\"sk-item\"><div class=\"sk-estimator sk-toggleable\"><input class=\"sk-toggleable__control sk-hidden--visually\" id=\"sk-estimator-id-12\" type=\"checkbox\" checked><label for=\"sk-estimator-id-12\" class=\"sk-toggleable__label sk-toggleable__label-arrow\">XGBClassifier</label><div class=\"sk-toggleable__content\"><pre>XGBClassifier(base_score=None, booster=None, callbacks=None,\n",
       "              colsample_bylevel=None, colsample_bynode=None,\n",
       "              colsample_bytree=0.8, device=None, early_stopping_rounds=None,\n",
       "              enable_categorical=False, eval_metric=None, feature_types=None,\n",
       "              gamma=None, grow_policy=None, importance_type=None,\n",
       "              interaction_constraints=None, learning_rate=0.1, max_bin=None,\n",
       "              max_cat_threshold=None, max_cat_to_onehot=None,\n",
       "              max_delta_step=None, max_depth=5, max_leaves=None,\n",
       "              min_child_weight=3, missing=nan, monotone_constraints=None,\n",
       "              multi_strategy=None, n_estimators=100, n_jobs=None,\n",
       "              num_parallel_tree=None, random_state=None, ...)</pre></div></div></div></div></div>"
      ],
      "text/plain": [
       "XGBClassifier(base_score=None, booster=None, callbacks=None,\n",
       "              colsample_bylevel=None, colsample_bynode=None,\n",
       "              colsample_bytree=0.8, device=None, early_stopping_rounds=None,\n",
       "              enable_categorical=False, eval_metric=None, feature_types=None,\n",
       "              gamma=None, grow_policy=None, importance_type=None,\n",
       "              interaction_constraints=None, learning_rate=0.1, max_bin=None,\n",
       "              max_cat_threshold=None, max_cat_to_onehot=None,\n",
       "              max_delta_step=None, max_depth=5, max_leaves=None,\n",
       "              min_child_weight=3, missing=nan, monotone_constraints=None,\n",
       "              multi_strategy=None, n_estimators=100, n_jobs=None,\n",
       "              num_parallel_tree=None, random_state=None, ...)"
      ]
     },
     "execution_count": 39,
     "metadata": {},
     "output_type": "execute_result"
    }
   ],
   "source": [
    "# Entrenar el modelo con los mejores hiperparámetros\n",
    "best_model = xgb.XGBClassifier(**best_params)\n",
    "best_model.fit(X_train_scaled, y_train)"
   ]
  },
  {
   "cell_type": "markdown",
   "metadata": {},
   "source": [
    "### PREDICCIONES"
   ]
  },
  {
   "cell_type": "code",
   "execution_count": 40,
   "metadata": {},
   "outputs": [],
   "source": [
    "df_test_models = pd.read_excel(\"df_test_models.xlsx\")"
   ]
  },
  {
   "cell_type": "code",
   "execution_count": 31,
   "metadata": {},
   "outputs": [],
   "source": [
    "# Separar características y etiquetas del conjunto de prueba\n",
    "X_test = df_test_models.drop(columns='Survived')\n",
    "y_test = df_test_models['Survived']"
   ]
  },
  {
   "cell_type": "markdown",
   "metadata": {},
   "source": [
    "#### Estandarizar"
   ]
  },
  {
   "cell_type": "code",
   "execution_count": 41,
   "metadata": {},
   "outputs": [],
   "source": [
    "X_test_scaled_columns = scaler.transform(X_test[columns_to_scale])\n",
    "X_test_scaled = X_test.copy()\n",
    "X_test_scaled[columns_to_scale] = X_test_scaled_columns"
   ]
  },
  {
   "cell_type": "markdown",
   "metadata": {},
   "source": [
    "#### Predicción"
   ]
  },
  {
   "cell_type": "code",
   "execution_count": 43,
   "metadata": {},
   "outputs": [],
   "source": [
    "y_pred = best_model.predict(X_test_scaled)"
   ]
  },
  {
   "cell_type": "markdown",
   "metadata": {},
   "source": [
    "#### Evaluar Modelo"
   ]
  },
  {
   "cell_type": "code",
   "execution_count": 44,
   "metadata": {},
   "outputs": [],
   "source": [
    "from sklearn.metrics import accuracy_score, confusion_matrix, classification_report\n",
    "# Matriz de confusión\n",
    "conf_matrix = confusion_matrix(y_test, y_pred)"
   ]
  },
  {
   "cell_type": "code",
   "execution_count": 45,
   "metadata": {},
   "outputs": [
    {
     "data": {
      "image/png": "[encoded data removed]",
      "text/plain": [
       "<Figure size 1000x700 with 2 Axes>"
      ]
     },
     "metadata": {},
     "output_type": "display_data"
    }
   ],
   "source": [
    "import matplotlib.pyplot as plt\n",
    "import seaborn as sns\n",
    "\n",
    "# Graficar la matriz de confusión\n",
    "plt.figure(figsize=(10, 7))\n",
    "sns.heatmap(conf_matrix, annot=True, fmt='d', cmap='Blues', xticklabels=['No sobrevivió', 'Sobrevivió'], yticklabels=['No sobrevivió', 'Sobrevivió'])\n",
    "plt.xlabel('Predicción')\n",
    "plt.ylabel('Real')\n",
    "plt.title('Matriz de Confusión')\n",
    "plt.show()"
   ]
  },
  {
   "cell_type": "code",
   "execution_count": 46,
   "metadata": {},
   "outputs": [
    {
     "data": {
      "text/plain": [
       "array([[186,  18],\n",
       "       [ 23, 104]], dtype=int64)"
      ]
     },
     "execution_count": 46,
     "metadata": {},
     "output_type": "execute_result"
    }
   ],
   "source": [
    "conf_matrix"
   ]
  },
  {
   "cell_type": "code",
   "execution_count": 47,
   "metadata": {},
   "outputs": [
    {
     "name": "stdout",
     "output_type": "stream",
     "text": [
      "Precisión del modelo: 0.8761329305135952\n"
     ]
    }
   ],
   "source": [
    "# Calcular la precisión\n",
    "accuracy = accuracy_score(y_test, y_pred)\n",
    "print(f\"Precisión del modelo: {accuracy}\")"
   ]
  },
  {
   "cell_type": "code",
   "execution_count": 48,
   "metadata": {},
   "outputs": [
    {
     "name": "stdout",
     "output_type": "stream",
     "text": [
      "Reporte de clasificación:\n",
      "              precision    recall  f1-score   support\n",
      "\n",
      "           0       0.89      0.91      0.90       204\n",
      "           1       0.85      0.82      0.84       127\n",
      "\n",
      "    accuracy                           0.88       331\n",
      "   macro avg       0.87      0.87      0.87       331\n",
      "weighted avg       0.88      0.88      0.88       331\n",
      "\n"
     ]
    }
   ],
   "source": [
    "# Reporte de clasificación para obtener F1 score, recall y precision (sensibilidad)\n",
    "class_report = classification_report(y_test, y_pred, output_dict=True)\n",
    "print(f\"Reporte de clasificación:\\n{classification_report(y_test, y_pred)}\")"
   ]
  },
  {
   "cell_type": "markdown",
   "metadata": {},
   "source": [
    "##### Macro avg: Promedio no ponderado (simple) de precisión, recall y F1-score para ambas clases.\n",
    "##### Weighted avg: Promedio ponderado de precisión, recall y F1-score teniendo en cuenta el soporte (support) de cada clase."
   ]
  },
  {
   "cell_type": "markdown",
   "metadata": {},
   "source": [
    "#### support: Número de ocurrencias reales de cada clase en el conjunto de datos de prueba."
   ]
  },
  {
   "cell_type": "code",
   "execution_count": 50,
   "metadata": {},
   "outputs": [
    {
     "name": "stdout",
     "output_type": "stream",
     "text": [
      "Precisión promedio de Cross-Validation en el conjunto de entrenamiento: 0.8507365792759052\n"
     ]
    }
   ],
   "source": [
    "import numpy as np\n",
    "# Evaluación con Cross-Validation en el conjunto de entrenamiento\n",
    "cv_scores = cross_val_score(best_model, X_train_scaled, y_train, cv=kfold, scoring='accuracy')\n",
    "print(f\"Precisión promedio de Cross-Validation en el conjunto de entrenamiento: {np.mean(cv_scores)}\")"
   ]
  },
  {
   "cell_type": "code",
   "execution_count": 51,
   "metadata": {},
   "outputs": [
    {
     "data": {
      "image/png": "[encoded data removed]",
      "text/plain": [
       "<Figure size 1000x700 with 1 Axes>"
      ]
     },
     "metadata": {},
     "output_type": "display_data"
    }
   ],
   "source": [
    "from sklearn.metrics import roc_curve, roc_auc_score\n",
    "\n",
    "y_pred_prob = best_model.predict_proba(X_test_scaled)[:, 1]\n",
    "fpr, tpr, _ = roc_curve(y_test, y_pred_prob)\n",
    "auc = roc_auc_score(y_test, y_pred_prob)\n",
    "\n",
    "plt.figure(figsize=(10, 7))\n",
    "plt.plot(fpr, tpr, label=f'AUC = {auc:.2f}')\n",
    "plt.plot([0, 1], [0, 1], 'k--')\n",
    "plt.xlabel('Tasa de Falsos Positivos')\n",
    "plt.ylabel('Tasa de Verdaderos Positivos')\n",
    "plt.title('Curva ROC')\n",
    "plt.legend(loc='best')\n",
    "plt.show()\n"
   ]
  },
  {
   "cell_type": "code",
   "execution_count": 55,
   "metadata": {},
   "outputs": [
    {
     "data": {
      "image/png": "[encoded data removed]",
      "text/plain": [
       "<Figure size 640x480 with 1 Axes>"
      ]
     },
     "metadata": {},
     "output_type": "display_data"
    }
   ],
   "source": [
    "xgb.plot_importance(best_model, importance_type='weight')\n",
    "plt.title('Importancia de Características')\n",
    "plt.show()"
   ]
  },
  {
   "cell_type": "markdown",
   "metadata": {},
   "source": [
    "##### Se ha obtenido un buen rendimiento del modelo, especialmente detectando no sobrevivientes. Adicional a esto, el algoritmo de XGBoost, nos sirve para identificar la importancia de las variables, mostrando que Fare (precio que pagaron por ticket) es la característica más importante, y se relaciona a que la mayoría de sobrevivientes eran de primera clase. Y las variables PClass como están relacionadas al valor del ticket, realmente no aportan nueva información, por eso las variables tienen menor importancia.\n",
    "#### Seguido está la edad, "
   ]
  },
  {
   "cell_type": "code",
   "execution_count": 68,
   "metadata": {},
   "outputs": [
    {
     "data": {
      "text/plain": [
       "count    891.000000\n",
       "mean      29.361582\n",
       "std       13.019697\n",
       "min        0.420000\n",
       "25%       22.000000\n",
       "50%       28.000000\n",
       "75%       35.000000\n",
       "max       80.000000\n",
       "Name: Age, dtype: float64"
      ]
     },
     "execution_count": 68,
     "metadata": {},
     "output_type": "execute_result"
    }
   ],
   "source": [
    "df_train_models['Age'].describe()"
   ]
  },
  {
   "cell_type": "code",
   "execution_count": 75,
   "metadata": {},
   "outputs": [],
   "source": [
    "df_titanic_edad = pd.concat([df_train_models,df_test_models])"
   ]
  },
  {
   "cell_type": "code",
   "execution_count": 79,
   "metadata": {},
   "outputs": [],
   "source": [
    "bins = [0, 15, 25, 49, float('inf')]\n",
    "labels = ['NIÑO', 'JOVEN', 'ADULTO', 'VIEJO']\n",
    "\n",
    "df_titanic_edad['grupo_edad'] = pd.cut(df_titanic_edad['Age'], bins=bins, labels=labels, right=False)"
   ]
  },
  {
   "cell_type": "code",
   "execution_count": 81,
   "metadata": {},
   "outputs": [
    {
     "data": {
      "image/png": "[encoded data removed]",
      "text/plain": [
       "<Figure size 1000x600 with 1 Axes>"
      ]
     },
     "metadata": {},
     "output_type": "display_data"
    }
   ],
   "source": [
    "grouped_data = df_titanic_edad.groupby(['grupo_edad', 'Survived']).size().unstack()\n",
    "\n",
    "percentage_data = grouped_data.div(grouped_data.sum(axis=1), axis=0) * 100\n",
    "\n",
    "# Crear el gráfico de barras\n",
    "ax = grouped_data.plot(kind='bar', stacked=True, figsize=(10, 6))\n",
    "\n",
    "# Añadir títulos y etiquetas\n",
    "plt.title('Comparación de superviencia por Edad')\n",
    "plt.xlabel('Grupo Edad')\n",
    "plt.ylabel('Cantidad')\n",
    "plt.legend(title='Supervivencia')\n",
    "\n",
    "# Añadir porcentajes en las barras\n",
    "for container in ax.containers:\n",
    "    labels = [f'{v.get_height() / grouped_data.sum(axis=1)[i] * 100:.1f}%' if v.get_height() > 0 else '' for i, v in enumerate(container)]\n",
    "    ax.bar_label(container, labels=labels, label_type='center')\n",
    "\n",
    "# Mostrar el gráfico\n",
    "plt.show()"
   ]
  },
  {
   "cell_type": "markdown",
   "metadata": {},
   "source": [
    "##### Podemos ver que en los niños, hay mucha cercanía entre el número de sobrevivientes y los que no, pero en los adultos, sí vemos que que son más los que no sobreviven."
   ]
  }
 ],
 "metadata": {
  "kernelspec": {
   "display_name": "Python 3",
   "language": "python",
   "name": "python3"
  },
  "language_info": {
   "codemirror_mode": {
    "name": "ipython",
    "version": 3
   },
   "file_extension": ".py",
   "mimetype": "text/x-python",
   "name": "python",
   "nbconvert_exporter": "python",
   "pygments_lexer": "ipython3",
   "version": "3.10.11"
  }
 },
 "nbformat": 4,
 "nbformat_minor": 2
}
